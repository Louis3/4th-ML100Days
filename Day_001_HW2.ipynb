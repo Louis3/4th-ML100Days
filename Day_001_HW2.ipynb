{
 "cells": [
  {
   "cell_type": "code",
   "execution_count": null,
   "metadata": {},
   "outputs": [],
   "source": [
    "\"\"\"\n",
    "資料來源:https://www.kaggle.com/gpiosenka/100-bird-species\n",
    "可藉由不同鳥類的的訓練集訓練電腦辨識不同鳥類,訓練集越豐富越能提升辨識的成功機率。\n",
    "資料由作者於網路搜索按物種名稱收集的並進一步收集和整理\n",
    "資料型態為圖片，其中包含130種鳥類。17038個訓練圖像，650個測試圖像（每個物種5個）和650個驗證圖像（每個物種5個）。\n",
    "所有圖片為jpg格式的224 X 224 X 3彩色圖像。\n",
    "經由大量的訓練集資料可以訓練電腦辨識不同的鳥類，電腦提取影像中眾多特徵，並調整不同特徵間的權重以歸納不同鳥類間的不同，藉以提升分類的精度。\n",
    "此外資料集分為訓練集,驗證集和測試集，將訓練集放入演算法中進行訓練，加入驗證集調整演算法參數以提升分類精度。最後測試集放入訓練出來的分類模型\n",
    "以測試該模型是否適合拿來分類。\n",
    "\"\"\""
   ]
  }
 ],
 "metadata": {
  "kernelspec": {
   "display_name": "Python 3",
   "language": "python",
   "name": "python3"
  },
  "language_info": {
   "codemirror_mode": {
    "name": "ipython",
    "version": 3
   },
   "file_extension": ".py",
   "mimetype": "text/x-python",
   "name": "python",
   "nbconvert_exporter": "python",
   "pygments_lexer": "ipython3",
   "version": "3.7.4"
  }
 },
 "nbformat": 4,
 "nbformat_minor": 2
}
